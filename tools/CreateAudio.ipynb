{
 "cells": [
  {
   "cell_type": "markdown",
   "metadata": {},
   "source": [
    "# Audio Preparation\n",
    "We can prepare the needed audio files easily with the help of python. \n",
    "First we install gTTS which uses Google Translate for the generation of the audio files "
   ]
  },
  {
   "cell_type": "code",
   "execution_count": null,
   "metadata": {},
   "outputs": [],
   "source": [
    "!pip3 install gTTS\n"
   ]
  },
  {
   "cell_type": "markdown",
   "metadata": {},
   "source": [
    "## Generation of Audio Files\n",
    "\n",
    "The following logic generates the audio files based on an CSV file:"
   ]
  },
  {
   "cell_type": "code",
   "execution_count": 32,
   "metadata": {},
   "outputs": [
    {
     "name": "stdout",
     "output_type": "stream",
     "text": [
      "out/audio/one.mp3\n",
      "out/audio/two.mp3\n",
      "out/audio/@menu1.mp3\n",
      "out/audio/@menu2.mp3\n"
     ]
    }
   ],
   "source": [
    "import csv\n",
    "import os\n",
    "import gtts\n",
    "\n",
    "directory = \"out/audio\"\n",
    "ext = \"mp3\"\n",
    "os.makedirs(directory,exist_ok=True)\n",
    "\n",
    "with open('audio.csv') as csvfile:\n",
    "     audioreader = csv.DictReader(csvfile, delimiter=',')\n",
    "     for row in audioreader:\n",
    "         name = row['Name']\n",
    "         text = row['Text']\n",
    "         tts = gtts.gTTS(text)\n",
    "         filename = directory + \"/\" + name + \".\" + ext\n",
    "         tts.save(filename)\n",
    "         print(filename)\n",
    "\n"
   ]
  },
  {
   "cell_type": "markdown",
   "metadata": {},
   "source": [
    "## Generating header files\n",
    "\n",
    "We can convert the audio files into C code:"
   ]
  },
  {
   "cell_type": "code",
   "execution_count": 31,
   "metadata": {},
   "outputs": [
    {
     "name": "stdout",
     "output_type": "stream",
     "text": [
      "xxd -i out/audio/one.mp3 out/h/one.h\n",
      "xxd -i out/audio/@menu1.mp3 out/h/@menu1.h\n",
      "xxd -i out/audio/@menu2.mp3 out/h/@menu2.h\n",
      "xxd -i out/audio/two.mp3 out/h/two.h\n"
     ]
    }
   ],
   "source": [
    "import os\n",
    "import sys\n",
    "from pathlib import Path\n",
    "\n",
    "h_directory = \"out/h\"\n",
    "os.makedirs(h_directory,exist_ok=True)\n",
    "\n",
    "for file in os.listdir(directory):\n",
    "    filename = Path(file)\n",
    "    filename_h = filename.with_suffix('.h')\n",
    "    path_h = h_directory+\"/\"+str(filename_h)\n",
    "    cmd = \"xxd -i \"+directory+\"/\"+file+\" \" + path_h\n",
    "    print(cmd)\n",
    "    os.system(cmd)\n",
    "\n",
    "    # Read in the file\n",
    "    with open(path_h, 'r') as file :\n",
    "        filedata = file.read()\n",
    "\n",
    "    # Replace the target string\n",
    "    filedata = filedata.replace('unsigned char', '#pragma once\\nconst unsigned char')\n",
    "\n",
    "    # Write the file out again\n",
    "    with open(path_h, 'w') as file:\n",
    "        file.write(filedata)\n",
    "\n"
   ]
  }
 ],
 "metadata": {
  "interpreter": {
   "hash": "aee8b7b246df8f9039afb4144a1f6fd8d2ca17a180786b69acc140d282b71a49"
  },
  "kernelspec": {
   "display_name": "Python 3.9.10 64-bit",
   "language": "python",
   "name": "python3"
  },
  "language_info": {
   "codemirror_mode": {
    "name": "ipython",
    "version": 3
   },
   "file_extension": ".py",
   "mimetype": "text/x-python",
   "name": "python",
   "nbconvert_exporter": "python",
   "pygments_lexer": "ipython3",
   "version": "3.9.10"
  },
  "orig_nbformat": 4
 },
 "nbformat": 4,
 "nbformat_minor": 2
}
